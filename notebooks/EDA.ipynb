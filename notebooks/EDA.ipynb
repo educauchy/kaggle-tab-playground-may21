{
 "cells": [
  {
   "cell_type": "code",
   "execution_count": 125,
   "metadata": {},
   "outputs": [],
   "source": [
    "import pandas as pd\n",
    "import numpy as np\n",
    "from scipy.stats import boxcox, yeojohnson\n",
    "\n",
    "from ReliefF import ReliefF\n",
    "\n",
    "from pandas_profiling import ProfileReport\n",
    "import seaborn as sns\n",
    "import matplotlib.pyplot as plt\n",
    "from sklearn.preprocessing import LabelEncoder\n",
    "from sklearn.preprocessing import PolynomialFeatures"
   ]
  },
  {
   "cell_type": "code",
   "execution_count": 170,
   "metadata": {},
   "outputs": [
    {
     "name": "stderr",
     "output_type": "stream",
     "text": [
      "/Users/educauchy/opt/anaconda3/lib/python3.7/site-packages/pandas/core/series.py:856: RuntimeWarning: divide by zero encountered in log10\n",
      "  result = getattr(ufunc, method)(*inputs, **kwargs)\n",
      "/Users/educauchy/opt/anaconda3/lib/python3.7/site-packages/pandas/core/series.py:856: RuntimeWarning: invalid value encountered in log10\n",
      "  result = getattr(ufunc, method)(*inputs, **kwargs)\n"
     ]
    },
    {
     "name": "stdout",
     "output_type": "stream",
     "text": [
      "id                0.0\n",
      "feature_0         0.0\n",
      "feature_1         0.0\n",
      "feature_2         0.0\n",
      "feature_3         0.0\n",
      "                 ... \n",
      "feature_45_log    0.0\n",
      "feature_46_log    0.0\n",
      "feature_47_log    0.0\n",
      "feature_48_log    0.0\n",
      "feature_49_log    0.0\n",
      "Length: 102, dtype: float64\n"
     ]
    }
   ],
   "source": [
    "data = pd.read_csv('../data/external/train.csv')\n",
    "data.head()\n",
    "\n",
    "\n",
    "data['target_enc'] = (data['target'].str.split('_', expand=True)[1]).astype(int)\n",
    "data.drop(['target'], axis=1, inplace=True)\n",
    "\n",
    "for col in data.columns:\n",
    "    if col not in ['id', 'target', 'target_enc']:\n",
    "        data[col + '_log'] = np.nan_to_num(np.log10(data[col] + 1).astype('float32'))\n",
    "data.replace([-np.inf, np.inf], 0, inplace=True)\n",
    "\n",
    "creator = PolynomialFeatures(degree=2, interaction_only=False, include_bias=False).fit(data)\n",
    "new_values = np.nan_to_num((creator.transform(data).astype(np.float32)))\n",
    "d = pd.DataFrame(data=new_values, columns=creator.get_feature_names())\n",
    "data = data.join(d)"
   ]
  },
  {
   "cell_type": "code",
   "execution_count": 171,
   "metadata": {},
   "outputs": [
    {
     "data": {
      "text/plain": [
       "(100000, 5457)"
      ]
     },
     "execution_count": 171,
     "metadata": {},
     "output_type": "execute_result"
    }
   ],
   "source": [
    "data.shape"
   ]
  },
  {
   "cell_type": "code",
   "execution_count": 161,
   "metadata": {},
   "outputs": [
    {
     "data": {
      "text/plain": [
       "target_enc    1.000000\n",
       "x51           1.000000\n",
       "x0 x51        0.485284\n",
       "x8 x51        0.130004\n",
       "x10 x51       0.139267\n",
       "x12 x51       0.116436\n",
       "x13 x51       0.120935\n",
       "x15 x51       0.146007\n",
       "x16 x51       0.161480\n",
       "x18 x51       0.115545\n",
       "x19 x51       0.121902\n",
       "x25 x51       0.109800\n",
       "x29 x51       0.162846\n",
       "x32 x51       0.109715\n",
       "x35 x51       0.154473\n",
       "x37 x51       0.100341\n",
       "x39 x51       0.172946\n",
       "x41 x51       0.120271\n",
       "x49 x51       0.109973\n",
       "x51^2         0.983407\n",
       "Name: target_enc, dtype: float64"
      ]
     },
     "execution_count": 161,
     "metadata": {},
     "output_type": "execute_result"
    }
   ],
   "source": [
    "s = ((data_corr.stack()[data_corr.stack() > 0.1]).unstack())['target_enc']\n",
    "s[~s.isnull()]"
   ]
  },
  {
   "cell_type": "code",
   "execution_count": null,
   "metadata": {},
   "outputs": [],
   "source": []
  }
 ],
 "metadata": {
  "kernelspec": {
   "display_name": "Python 3",
   "language": "python",
   "name": "python3"
  },
  "language_info": {
   "codemirror_mode": {
    "name": "ipython",
    "version": 3
   },
   "file_extension": ".py",
   "mimetype": "text/x-python",
   "name": "python",
   "nbconvert_exporter": "python",
   "pygments_lexer": "ipython3",
   "version": "3.7.8"
  }
 },
 "nbformat": 4,
 "nbformat_minor": 4
}
