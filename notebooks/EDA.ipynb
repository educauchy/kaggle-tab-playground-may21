{
 "cells": [
  {
   "cell_type": "code",
   "execution_count": 197,
   "metadata": {},
   "outputs": [],
   "source": [
    "import pandas as pd\n",
    "import numpy as np\n",
    "from scipy.stats import boxcox, yeojohnson\n",
    "\n",
    "from ReliefF import ReliefF\n",
    "\n",
    "from pandas_profiling import ProfileReport\n",
    "import seaborn as sns\n",
    "import matplotlib.pyplot as plt\n",
    "from sklearn.preprocessing import LabelEncoder\n",
    "from sklearn.preprocessing import PolynomialFeatures\n",
    "from collections import Counter\n",
    "\n",
    "from itertools import permutations"
   ]
  },
  {
   "cell_type": "code",
   "execution_count": 207,
   "metadata": {},
   "outputs": [
    {
     "data": {
      "text/plain": [
       "(100000, 52)"
      ]
     },
     "execution_count": 207,
     "metadata": {},
     "output_type": "execute_result"
    }
   ],
   "source": [
    "data = pd.read_csv('../data/external/train.csv')\n",
    "\n",
    "data['target_enc'] = (data['target'].str.split('_', expand=True)[1]).astype(int)\n",
    "data.drop(['target'], axis=1, inplace=True)\n",
    "data.shape\n",
    "\n",
    "# for col in data.columns:\n",
    "#     if col not in ['id', 'target', 'target_enc']:\n",
    "#         data[col + '_log'] = np.nan_to_num(np.log10(data[col] + 1).astype('float32'))\n",
    "# data.replace([-np.inf, np.inf], 0, inplace=True)\n",
    "\n",
    "# creator = PolynomialFeatures(degree=2, interaction_only=False, include_bias=False).fit(data)\n",
    "# new_values = np.nan_to_num((creator.transform(data).astype(np.float32)))\n",
    "# d = pd.DataFrame(data=new_values, columns=creator.get_feature_names())\n",
    "# data = data.join(d)"
   ]
  },
  {
   "cell_type": "code",
   "execution_count": 216,
   "metadata": {},
   "outputs": [
    {
     "name": "stdout",
     "output_type": "stream",
     "text": [
      "(100000, 2704)\n"
     ]
    }
   ],
   "source": [
    "train_cols_perm_2 = permutations(data.columns, 2)\n",
    "train_cols_perm_3 = permutations(data.columns, 3)\n",
    "\n",
    "for feature1, feature2 in train_cols_perm_2:\n",
    "    data[feature1 + '+' + feature2] = data[feature1] + data[feature2]\n",
    "\n",
    "print(data.shape)"
   ]
  },
  {
   "cell_type": "code",
   "execution_count": null,
   "metadata": {},
   "outputs": [],
   "source": [
    "data_corr = data.corr()\n",
    "s = ((data_corr.stack()[data_corr.stack() > 0.01]).unstack())['target_enc']\n",
    "s[~s.isnull()]"
   ]
  },
  {
   "cell_type": "code",
   "execution_count": 191,
   "metadata": {},
   "outputs": [
    {
     "data": {
      "text/plain": [
       "[(21, 2),\n",
       " (20, 4),\n",
       " (19, 12),\n",
       " (18, 16),\n",
       " (17, 16),\n",
       " (16, 20),\n",
       " (15, 33),\n",
       " (14, 70),\n",
       " (13, 84),\n",
       " (12, 112),\n",
       " (11, 153),\n",
       " (10, 195),\n",
       " (9, 294),\n",
       " (8, 358),\n",
       " (7, 433),\n",
       " (6, 833),\n",
       " (5, 1380),\n",
       " (4, 2395),\n",
       " (3, 3604),\n",
       " (2, 5589),\n",
       " (1, 10444),\n",
       " (0, 73953)]"
      ]
     },
     "execution_count": 191,
     "metadata": {},
     "output_type": "execute_result"
    }
   ],
   "source": [
    "f40 = dict(Counter(data['feature_40']))\n",
    "sorted(f40.items(), key=lambda x: x[1]"
   ]
  },
  {
   "cell_type": "code",
   "execution_count": null,
   "metadata": {},
   "outputs": [],
   "source": []
  }
 ],
 "metadata": {
  "kernelspec": {
   "display_name": "Python 3",
   "language": "python",
   "name": "python3"
  },
  "language_info": {
   "codemirror_mode": {
    "name": "ipython",
    "version": 3
   },
   "file_extension": ".py",
   "mimetype": "text/x-python",
   "name": "python",
   "nbconvert_exporter": "python",
   "pygments_lexer": "ipython3",
   "version": "3.7.8"
  }
 },
 "nbformat": 4,
 "nbformat_minor": 4
}
